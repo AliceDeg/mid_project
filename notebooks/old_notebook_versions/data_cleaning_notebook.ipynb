{
 "cells": [
  {
   "cell_type": "code",
   "execution_count": 7,
   "id": "7c54aca4-f5a8-4990-af4a-6e32e3694fd9",
   "metadata": {},
   "outputs": [],
   "source": [
    "import pandas as pd"
   ]
  },
  {
   "cell_type": "code",
   "execution_count": 10,
   "id": "1b5c1e29-46bc-41c0-b838-3ac158a09065",
   "metadata": {},
   "outputs": [],
   "source": [
    "import sys\n",
    "sys.path.append('C:\\\\Users\\\\deghe\\\\Documents\\\\Ironhack\\\\Week_5\\\\Mid_bootcamp_project\\\\mid_project\\\\src')"
   ]
  },
  {
   "cell_type": "code",
   "execution_count": 11,
   "id": "93f0457f-cfca-42ca-b468-a7e6cefaf48a",
   "metadata": {},
   "outputs": [],
   "source": [
    "from functions import *"
   ]
  },
  {
   "cell_type": "code",
   "execution_count": null,
   "id": "8d9b6b4b-f408-4418-9d84-a1fdcbffeeeb",
   "metadata": {},
   "outputs": [],
   "source": [
    "# We read the raw data into a dataframe. We use the separator \";\" in order to be able to properly separate the columns\n",
    "marketing_df=pd.read_csv(\"C:/Users/e.sansebastian/OneDrive - EXPONDO/Ironhack/Weeks/Week_5/Mid_bootcamp_project/mid_project/data/raw/marketing_campaign_dataset.csv\")"
   ]
  },
  {
   "cell_type": "code",
   "execution_count": null,
   "id": "61ededd7-17db-4ee4-9e3b-f9b7c0421b95",
   "metadata": {},
   "outputs": [],
   "source": []
  },
  {
   "cell_type": "code",
   "execution_count": null,
   "id": "fad5a234-e2a1-4238-a090-35862a5fdbd8",
   "metadata": {},
   "outputs": [],
   "source": [
    "marketing_df.head()"
   ]
  },
  {
   "cell_type": "code",
   "execution_count": null,
   "id": "874d8951-75b4-46ac-89cd-9c373a797b2b",
   "metadata": {},
   "outputs": [],
   "source": [
    "# We check the shape of the dataframe\n",
    "print(f\"The marketing dataframe contains {marketing_df.shape[0]} rows and {marketing_df.shape[1]} columns.\")"
   ]
  },
  {
   "cell_type": "code",
   "execution_count": null,
   "id": "2aacbc07-761b-469c-bdf5-631f78ab43d8",
   "metadata": {},
   "outputs": [],
   "source": [
    "marketing_df.info()"
   ]
  },
  {
   "cell_type": "code",
   "execution_count": null,
   "id": "d568eab6-8846-4a48-8c43-770b4ed489ef",
   "metadata": {},
   "outputs": [],
   "source": [
    "# Checking at the data we can see some incorrect data, taken into account the content of specific columns.We comment them below:\n",
    "# Acquisition cost should be float type\n",
    "# ROI: should be float type\n",
    "# Date: should be datetime format\n",
    "# Duration could then considered as a numeric value, but we will leave it as an attribute for now to be able to plot and get that level of granularity\n",
    "\n",
    "# We will proceed below to clean the data types with functions, when possible or reasonable."
   ]
  },
  {
   "cell_type": "code",
   "execution_count": null,
   "id": "a7b97362-bda0-4d2b-b67d-6aa1d8ececeb",
   "metadata": {},
   "outputs": [],
   "source": [
    "# First thing we will do is to clean the headers and convert them into snake_case, which will ease then later the manipulation. We will use a function\n",
    "# called lowercase_headers_and_replace_spaces() from our functions module"
   ]
  },
  {
   "cell_type": "code",
   "execution_count": null,
   "id": "fb7a49ba-273d-46c6-8dda-7d0ef1ce0ae9",
   "metadata": {},
   "outputs": [],
   "source": [
    "marketing_df=lowercase_headers_and_replace_spaces(marketing_df)\n",
    "display(marketing_df.columns)"
   ]
  },
  {
   "cell_type": "code",
   "execution_count": null,
   "id": "fb0448e1-9b33-49ca-a0b6-ffbd334adf04",
   "metadata": {},
   "outputs": [],
   "source": [
    "# Being something punctual we will convert it with the str.replace method, rather than passing it into a function this time, as it may not be very useful in the future.\n",
    "marketing_df['acquisition_cost'] = marketing_df['acquisition_cost'].str.replace('$', '').str.replace(',', '.').str.replace('.00', '')\n",
    "marketing_df.head()"
   ]
  },
  {
   "cell_type": "code",
   "execution_count": null,
   "id": "3a74fd4a-d47d-4873-b914-126f46ad556c",
   "metadata": {},
   "outputs": [],
   "source": [
    "# In order to speed up future data conversions, we pass a function to be able to convert a list of columns to numeric\n",
    "def columns_to_numeric(df:pd.DataFrame,cols:list)->pd.DataFrame:\n",
    "    ''' \n",
    "    This columns takes a list of columns from a DataFrame and converts them into numeric.\n",
    "    Input:\n",
    "    \n",
    "    df: dataframe we want to clean\n",
    "    cols: list of columns we want to convert to numeric.\n",
    "\n",
    "    Output:\n",
    "    colums properly formatted to numeric.\n",
    "    '''\n",
    "    \n",
    "    df2 = df.copy()\n",
    "\n",
    "    # we interate over the list of columns we want to convert into numeric\n",
    "    for col in cols:\n",
    "        df2[col] = pd.to_numeric(df2[col], errors='coerce')\n",
    "\n",
    "    return df2\n",
    "\n",
    "    "
   ]
  },
  {
   "cell_type": "code",
   "execution_count": null,
   "id": "ec21615b-4c45-4fad-a451-efc3a9b245c3",
   "metadata": {},
   "outputs": [],
   "source": [
    "marketing_df=columns_to_numeric(marketing_df,[\"acquisition_cost\",\"roi\"])"
   ]
  },
  {
   "cell_type": "code",
   "execution_count": null,
   "id": "10339a4a-f00b-4495-87fd-9ad245fba05a",
   "metadata": {},
   "outputs": [],
   "source": [
    "print(marketing_df.dtypes)"
   ]
  },
  {
   "cell_type": "code",
   "execution_count": null,
   "id": "db1c6fff-052d-4983-97ae-5ff337d2171c",
   "metadata": {},
   "outputs": [],
   "source": [
    "# We next convert the date into date format. I thought about doing it with the next function of extracting mont, quarter, etc., but we should avoid performing multiple actions into 1 column to make it more generic"
   ]
  },
  {
   "cell_type": "code",
   "execution_count": null,
   "id": "781b0d19-97e0-48a3-8866-20b8a76d3645",
   "metadata": {},
   "outputs": [],
   "source": [
    "marketing_df[\"date\"]=pd.to_datetime(marketing_df['date'])"
   ]
  },
  {
   "cell_type": "code",
   "execution_count": null,
   "id": "25b56b01-48de-47f6-bd22-a1ae770c5b83",
   "metadata": {},
   "outputs": [],
   "source": [
    "# We will create a function to extract the day as day of the week, month, quarter and week of the year. This should help us analyse the seasonality\n",
    "\n",
    "def date_extract(df:pd.DataFrame,col:\"string\")->pd.DataFrame:\n",
    "    '''\n",
    "    This function takes a DataFrame and extracts the month, quarter and week of the year into new columns\n",
    "\n",
    "    Input:\n",
    "\n",
    "    df: The dataframe we want to apply the changes on\n",
    "    col: The date column we want to extract the month, quarter, week of the year into new colums from\n",
    "\n",
    "    Output:\n",
    "\n",
    "    it returns the dataframe with the new 3 columns\n",
    "    '''\n",
    "    # We create a copy of our df and extract the corresponding values from the date colum inserted as an input:\n",
    "    df2=df.copy()\n",
    "    df2[\"month\"] = df2[col].dt.month\n",
    "    df2[\"quarter\"] =  df2[col].dt.quarter\n",
    "    df2[\"week_of_year\"]= df2[col].dt.isocalendar().week\n",
    "\n",
    "    return df2\n",
    "\n"
   ]
  },
  {
   "cell_type": "code",
   "execution_count": null,
   "id": "fef90104-9e92-487f-84dd-27678ddd3ed6",
   "metadata": {},
   "outputs": [],
   "source": [
    "marketing_df = date_extract(marketing_df,\"date\")"
   ]
  },
  {
   "cell_type": "code",
   "execution_count": null,
   "id": "1a28abc0-e630-48f2-9fd3-21598b897988",
   "metadata": {},
   "outputs": [],
   "source": [
    "marketing_df.head()"
   ]
  },
  {
   "cell_type": "code",
   "execution_count": null,
   "id": "7868b949-6942-4e23-ae19-961a12a66ff3",
   "metadata": {},
   "outputs": [],
   "source": [
    "display(marketing_df.dtypes)"
   ]
  },
  {
   "cell_type": "code",
   "execution_count": null,
   "id": "f7fdee50-af5e-4076-8fdc-ca0f64321dfc",
   "metadata": {},
   "outputs": [],
   "source": [
    "display(marketing_df[\"target_audience\"].value_counts())"
   ]
  },
  {
   "cell_type": "code",
   "execution_count": null,
   "id": "6d88dd7f-daa7-40d5-b7c8-344f085543ce",
   "metadata": {},
   "outputs": [],
   "source": [
    "# We will split the \"demographic\" target_audience into 2 columns, provided a specific pattern is present. In this case we will look for digit-digit\n",
    "\n",
    "import pandas as pd\n",
    "\n",
    "def extract_pattern(df: pd.DataFrame, col: str, pattern: str, new_col: str) -> pd.DataFrame:\n",
    "    '''\n",
    "    This function extracts a pattern from a specified column into a new column.\n",
    "\n",
    "    Input:\n",
    "    - df: The DataFrame we want to apply the changes to.\n",
    "    - col: The column containing the text to search for the pattern.\n",
    "    - pattern: The regular expression pattern to extract.\n",
    "    - new_col: The name of the new column to store the extracted patterns.\n",
    "\n",
    "    Output:\n",
    "    - Returns the DataFrame with the new column.\n",
    "    '''\n",
    "    df2 = df.copy()\n",
    "\n",
    "    # We use the methode str. to extract the pattern into a new column\n",
    "    df2[new_col] = df2[col].str.extract(pattern, expand=False)\n",
    "\n",
    "    # If there are missing values in the original column, fill them in the new column\n",
    "    df2[new_col].fillna(\"all ages\", inplace=True)\n",
    "\n",
    "    return df2\n"
   ]
  },
  {
   "cell_type": "code",
   "execution_count": null,
   "id": "de57c880-ae2d-42cc-9cff-4ee74f6f7d24",
   "metadata": {},
   "outputs": [],
   "source": [
    "marketing_df=extract_pattern(marketing_df,\"target_audience\", r'(\\d{2}-\\d{2})',\"age_range\")"
   ]
  },
  {
   "cell_type": "code",
   "execution_count": null,
   "id": "c8986271-d429-4749-a472-87d60e2eedd8",
   "metadata": {},
   "outputs": [],
   "source": [
    "# We check the values of the new age-ranges column\n",
    "marketing_df[\"age_range\"].value_counts()"
   ]
  },
  {
   "cell_type": "code",
   "execution_count": null,
   "id": "69e16ac7-8981-4699-aa08-b81663d7e62e",
   "metadata": {},
   "outputs": [],
   "source": [
    "marketing_df[\"target_audience\"].value_counts()"
   ]
  },
  {
   "cell_type": "code",
   "execution_count": null,
   "id": "23d1c80c-9b44-4386-9cad-dd06bc569e74",
   "metadata": {},
   "outputs": [],
   "source": [
    "# We now will define a function to clean the remaining target_audience column to only have men, women and all genders\n",
    "\n",
    "def gender_cleaning(df:pd.DataFrame,col:\"string\")->pd.DataFrame:\n",
    "    '''\n",
    "    This function takes a dataframe as input and returns 3 values for gender, men, women and all genders\n",
    "\n",
    "    Input: \n",
    "    df: dataframe to be modified\n",
    "    col: name of the column we want to apply the changes on\n",
    "\n",
    "    Output:\n",
    "\n",
    "    Returns the dataframe with the 3 options listed above: men, women and all genders.\n",
    "\n",
    "    '''\n",
    "    df2=df.copy()\n",
    "    # Using the lambda function from the data transformation notebook, we adapt the function to the current purpose\n",
    "    df2 = df.copy()\n",
    "    df2[col] = df2[col].apply(lambda val: \"women\" if \"women\" in str(val).lower() else (\"men\" if \"men\" in str(val).lower() else \"all genders\"))\n",
    "\n",
    "    return df2"
   ]
  },
  {
   "cell_type": "code",
   "execution_count": null,
   "id": "153b0da8-c99a-4dbf-a2bc-72fd4d0e41e6",
   "metadata": {},
   "outputs": [],
   "source": [
    "marketing_df= gender_cleaning(marketing_df,\"target_audience\")"
   ]
  },
  {
   "cell_type": "code",
   "execution_count": null,
   "id": "3e75b541-d7b6-417d-be42-7df28028afbb",
   "metadata": {},
   "outputs": [],
   "source": [
    "marketing_df[\"target_audience\"].value_counts()"
   ]
  },
  {
   "cell_type": "code",
   "execution_count": null,
   "id": "2fb14967-c98f-4b76-a3fb-a32dbdb608a2",
   "metadata": {},
   "outputs": [],
   "source": [
    "marketing_df.head()"
   ]
  },
  {
   "cell_type": "code",
   "execution_count": null,
   "id": "6a03295b-0ae8-4849-9c91-4c3f9f543eab",
   "metadata": {},
   "outputs": [],
   "source": [
    "# We check the columns and data types again\n",
    "marketing_df.info()"
   ]
  },
  {
   "cell_type": "code",
   "execution_count": null,
   "id": "1d4d9486-2975-4c4f-9792-e10ab4a57c1f",
   "metadata": {},
   "outputs": [],
   "source": [
    "# We consider the data as clean and save the \"cleaned version of the csv into the corresponding folder\"\n",
    "\n",
    "marketing_df.to_csv('C:/Users/e.sansebastian/OneDrive - EXPONDO/Ironhack/Weeks/Week_5/Mid_bootcamp_project/mid_project/data/cleaned/cleaned_marketing_df.csv',index=False)"
   ]
  },
  {
   "cell_type": "code",
   "execution_count": null,
   "id": "3620a8e7-d712-4807-91fc-b53388197611",
   "metadata": {},
   "outputs": [],
   "source": []
  }
 ],
 "metadata": {
  "kernelspec": {
   "display_name": "venv",
   "language": "python",
   "name": "venv"
  },
  "language_info": {
   "codemirror_mode": {
    "name": "ipython",
    "version": 3
   },
   "file_extension": ".py",
   "mimetype": "text/x-python",
   "name": "python",
   "nbconvert_exporter": "python",
   "pygments_lexer": "ipython3",
   "version": "3.11.5"
  }
 },
 "nbformat": 4,
 "nbformat_minor": 5
}
